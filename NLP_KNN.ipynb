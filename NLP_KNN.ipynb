{
  "cells": [
    {
      "cell_type": "code",
      "source": [
        "!pip install keras_preprocessing"
      ],
      "metadata": {
        "colab": {
          "base_uri": "https://localhost:8080/"
        },
        "id": "XIs3KiPodgZ6",
        "outputId": "22319e47-8812-437d-de71-7fd0f296b315"
      },
      "execution_count": 19,
      "outputs": [
        {
          "output_type": "stream",
          "name": "stdout",
          "text": [
            "Looking in indexes: https://pypi.org/simple, https://us-python.pkg.dev/colab-wheels/public/simple/\n",
            "Collecting keras_preprocessing\n",
            "  Downloading Keras_Preprocessing-1.1.2-py2.py3-none-any.whl (42 kB)\n",
            "\u001b[2K     \u001b[90m━━━━━━━━━━━━━━━━━━━━━━━━━━━━━━━━━━━━━━━━\u001b[0m \u001b[32m42.6/42.6 kB\u001b[0m \u001b[31m3.9 MB/s\u001b[0m eta \u001b[36m0:00:00\u001b[0m\n",
            "\u001b[?25hRequirement already satisfied: numpy>=1.9.1 in /usr/local/lib/python3.10/dist-packages (from keras_preprocessing) (1.22.4)\n",
            "Requirement already satisfied: six>=1.9.0 in /usr/local/lib/python3.10/dist-packages (from keras_preprocessing) (1.16.0)\n",
            "Installing collected packages: keras_preprocessing\n",
            "Successfully installed keras_preprocessing-1.1.2\n"
          ]
        }
      ]
    },
    {
      "cell_type": "code",
      "execution_count": 20,
      "metadata": {
        "id": "6p4fFRtdZScG"
      },
      "outputs": [],
      "source": [
        "import numpy as np\n",
        "import pandas as pd\n",
        "import matplotlib.pyplot as plt\n",
        "from tensorflow.keras.datasets import imdb\n",
        "from tensorflow.keras.preprocessing.sequence import pad_sequences\n",
        "from sklearn.feature_extraction.text import TfidfVectorizer\n",
        "from sklearn.neighbors import KNeighborsClassifier\n",
        "from sklearn.metrics import accuracy_score\n",
        "from keras.preprocessing.text import Tokenizer\n",
        "from keras_preprocessing.sequence import pad_sequences\n",
        "import re\n",
        "import nltk\n",
        "from nltk.corpus import stopwords\n",
        "from nltk.tokenize import word_tokenize\n",
        "from nltk.stem import WordNetLemmatizer"
      ]
    },
    {
      "cell_type": "code",
      "source": [
        "nltk.download('punkt')\n",
        "nltk.download('stopwords')\n",
        "nltk.download('wordnet')\n",
        "\n",
        "def preprocess_text(text):\n",
        "    text = re.sub('[^a-zA-Z]', ' ', text)    \n",
        "    text = text.lower()\n",
        "    \n",
        "    words = word_tokenize(text)    \n",
        "   \n",
        "    stop_words = set(stopwords.words('english'))\n",
        "    words = [word for word in words if word not in stop_words]\n",
        "    \n",
        "    lemmatizer = WordNetLemmatizer()\n",
        "    words = [lemmatizer.lemmatize(word) for word in words]\n",
        "    \n",
        "    text = ' '.join(words)\n",
        "    \n",
        "    return text"
      ],
      "metadata": {
        "colab": {
          "base_uri": "https://localhost:8080/"
        },
        "id": "33QHcu5xbDhq",
        "outputId": "2e880901-ea34-4371-a053-cf017b667ad4"
      },
      "execution_count": 17,
      "outputs": [
        {
          "output_type": "stream",
          "name": "stderr",
          "text": [
            "[nltk_data] Downloading package punkt to /root/nltk_data...\n",
            "[nltk_data]   Package punkt is already up-to-date!\n",
            "[nltk_data] Downloading package stopwords to /root/nltk_data...\n",
            "[nltk_data]   Package stopwords is already up-to-date!\n",
            "[nltk_data] Downloading package wordnet to /root/nltk_data...\n",
            "[nltk_data]   Package wordnet is already up-to-date!\n"
          ]
        }
      ]
    },
    {
      "cell_type": "code",
      "source": [
        "def load_imdb_data():\n",
        "    from keras.datasets import imdb\n",
        "    (train_data, train_labels), (test_data, test_labels) = imdb.load_data()\n",
        "\n",
        "    word_index = imdb.get_word_index()\n",
        "    reverse_word_index = dict([(value, key) for (key, value) in word_index.items()])\n",
        "\n",
        "    train_reviews = [' '.join([reverse_word_index.get(i - 3, '?') for i in review]) for review in train_data]\n",
        "    test_reviews = [' '.join([reverse_word_index.get(i - 3, '?') for i in review]) for review in test_data]\n",
        "\n",
        "    train_df = pd.DataFrame({\"review\": train_reviews, \"label\": train_labels})\n",
        "    test_df = pd.DataFrame({\"review\": test_reviews, \"label\": test_labels})\n",
        "\n",
        "    return pd.concat([train_df, test_df]).reset_index(drop=True)"
      ],
      "metadata": {
        "id": "YOcMdQ_nbUuq"
      },
      "execution_count": 4,
      "outputs": []
    },
    {
      "cell_type": "code",
      "source": [
        "imdb_data = load_imdb_data()\n",
        "imdb_data['review'] = imdb_data['review'].apply(preprocess_text)"
      ],
      "metadata": {
        "id": "3DE81Ff2bgbF"
      },
      "execution_count": 7,
      "outputs": []
    },
    {
      "cell_type": "code",
      "source": [
        "imdb_data.drop_duplicates(inplace=True)"
      ],
      "metadata": {
        "id": "_S4TG1l1bzek"
      },
      "execution_count": 8,
      "outputs": []
    },
    {
      "cell_type": "code",
      "source": [
        "keywords = {\n",
        "      \"other\": [],\n",
        "      \"funny\": [\n",
        "          \"comedy\", \"humor\", \"wit\", \"satire\", \"parody\", \"joke\", \"prank\", \"playful\",\n",
        "      ],\n",
        "      \"scary\": [\n",
        "          \"horror\", \"terror\", \"fear\", \"dread\", \"shock\", \"spooky\", \"haunting\", \"eerie\", \"creepy\",\n",
        "          \"frightening\", \"disturbing\", \"chilling\", \"macabre\", \"gory\", \"bloodcurdling\", \"terrifying\",\n",
        "          \"horrifying\", \"gothic\", \"sinister\", \"malevolent\", \"ominous\", \"nightmarish\", \"supernatural\",\n",
        "          \"paranormal\", \"psychological\", \"slasher\", \"zombie\", \"monster\", \"demon\", \"ghost\", \"witch\",\n",
        "          \"vampire\", \"werewolf\", \"scream\", \"jump scare\", \"horror movie\", \"haunted house\",\n",
        "          \"horror novel\", \"horror game\", \"psychological thriller\"\n",
        "      ],\n",
        "      \"dramatic\": [\n",
        "          \"drama\", \"intense\", \"serious\", \"emotional\", \"gripping\", \"powerful\", \"poignant\",\n",
        "          \"heart-wrenching\", \"heartfelt\", \"compelling\", \"profound\", \"deep\", \"meaningful\",\n",
        "          \"thought-provoking\", \"insightful\", \"touching\", \"moving\", \"tragic\", \"melancholy\",\n",
        "          \"sorrowful\", \"heavy\", \"profound\", \"probing\", \"triumphant\", \"uplifting\", \"inspiring\",\n",
        "          \"motivational\", \"empathetic\", \"sensitive\", \"emotive\", \"soulful\", \"stirring\", \"resonant\",\n",
        "          \"gripping\", \"engrossing\", \"character-driven\", \"emotionally charged\", \"powerful performances\",\n",
        "          \"Oscar-worthy\"\n",
        "      ],\n",
        "      \"action\": [\n",
        "          \"action\", \"adventure\", \"thrilling\", \"exciting\", \"fast-paced\", \"intense\", \"dangerous\",\n",
        "          \"explosive\", \"suspenseful\", \"energetic\", \"daring\", \"heroic\", \"brave\", \"bold\",\n",
        "          \"action-packed\", \"fight\", \"shootout\", \"car chase\", \"explosion\", \"stunts\", \"adrenaline\",\n",
        "          \"high-octane\", \"martial arts\", \"spy\", \"espionage\", \"mission\", \"rescue\", \"heist\",\n",
        "          \"battle\", \"war\", \"combat\", \"superhero\", \"villain\", \"chase scene\", \"firefight\",\n",
        "          \"action hero\", \"fast and furious\", \"die hard\", \"james bond\", \"bourne identity\", \"avengers\",\n",
        "          \"marvel\"\n",
        "      ],\n",
        "      \"romantic\": [\n",
        "          \"romance\", \"love\", \"affection\", \"passion\", \"intimacy\", \"sentimental\", \"heartfelt\",\n",
        "          \"adorable\", \"cute\", \"charming\", \"endearing\", \"sweet\", \"tender\", \"loving\", \"caring\",\n",
        "          \"devoted\", \"committed\", \"romantic comedy\", \"chick flick\", \"heartwarming\", \"swoon-worthy\",\n",
        "          \"chemistry\", \"romantic gesture\", \"kiss\", \"romantic dinner\", \"flowers\", \"gifts\",\n",
        "          \"love story\", \"tragic romance\", \"fairy tale romance\", \"passionate\", \"emotional\",\n",
        "          \"sensual\", \"sexy\", \"intense\", \"deeply romantic\", \"unforgettable\", \"timeless\"\n",
        "      ]\n",
        "    }"
      ],
      "metadata": {
        "id": "h2OgC6cHckrx"
      },
      "execution_count": 9,
      "outputs": []
    },
    {
      "cell_type": "code",
      "source": [
        "def label_data_filtered(row):\n",
        "    label_counts = {label: 0 for label in keywords.keys()}\n",
        "    label_counts['other'] = 0\n",
        "    review_text = row[\"review\"].lower()\n",
        "\n",
        "    for label, words in keywords.items():\n",
        "        if any(word in review_text for word in words):\n",
        "            label_counts[label] += 1\n",
        "\n",
        "    first_genre = max(label_counts, key=label_counts.get)\n",
        "    first_count = label_counts[first_genre]\n",
        "\n",
        "    label_counts[first_genre] = 0\n",
        "\n",
        "    second_genre = max(label_counts, key=label_counts.get)\n",
        "    second_count = label_counts[second_genre]\n",
        "\n",
        "    return first_genre"
      ],
      "metadata": {
        "id": "zKrEuoiLcqC_"
      },
      "execution_count": 10,
      "outputs": []
    },
    {
      "cell_type": "code",
      "source": [
        "imdb_data['label'] = imdb_data.apply(label_data_filtered, axis=1)\n",
        "\n",
        "print(len(imdb_data.groupby('label').count()))\n",
        "\n",
        "imdb_data.groupby('label').count().plot.bar(ylim=0)"
      ],
      "metadata": {
        "colab": {
          "base_uri": "https://localhost:8080/",
          "height": 534
        },
        "id": "j0s1sIg7cr2G",
        "outputId": "e202c48b-2628-4866-adab-ae9199e146b9"
      },
      "execution_count": 11,
      "outputs": [
        {
          "output_type": "stream",
          "name": "stdout",
          "text": [
            "6\n"
          ]
        },
        {
          "output_type": "execute_result",
          "data": {
            "text/plain": [
              "<Axes: xlabel='label'>"
            ]
          },
          "metadata": {},
          "execution_count": 11
        },
        {
          "output_type": "display_data",
          "data": {
            "text/plain": [
              "<Figure size 640x480 with 1 Axes>"
            ],
            "image/png": "[encoded data removed]"
          },
          "metadata": {}
        }
      ]
    },
    {
      "cell_type": "code",
      "source": [
        "train_df = pd.concat([imdb_data, pd.get_dummies(imdb_data['label'], prefix='label')], axis=1)\n",
        "train_df.drop(columns=['label'], inplace=True)\n",
        "train_df"
      ],
      "metadata": {
        "colab": {
          "base_uri": "https://localhost:8080/",
          "height": 424
        },
        "id": "M_Cv1VJBcwCV",
        "outputId": "eeb93e46-b464-41b6-ca53-85effdb9f8a4"
      },
      "execution_count": 14,
      "outputs": [
        {
          "output_type": "execute_result",
          "data": {
            "text/plain": [
              "                                                  review  label_action  \\\n",
              "0      film brilliant casting location scenery story ...             0   \n",
              "1      big hair big boob bad music giant safety pin w...             0   \n",
              "2      one worst film friend watching film target aud...             0   \n",
              "3      scot excel storytelling traditional sort many ...             0   \n",
              "4      worst mistake life br br picked movie target f...             0   \n",
              "...                                                  ...           ...   \n",
              "49995  book better film mostly writer prose saw film ...             0   \n",
              "49996  largest crowd ever see wrestling event u took ...             1   \n",
              "49997  suppose say terrible movie would unfair pretty...             1   \n",
              "49998  love third movie seemed creator took element f...             0   \n",
              "49999  good ol boy film almost required moonshine car...             1   \n",
              "\n",
              "       label_dramatic  label_funny  label_other  label_romantic  label_scary  \n",
              "0                   0            1            0               0            0  \n",
              "1                   0            0            0               0            1  \n",
              "2                   1            0            0               0            0  \n",
              "3                   0            1            0               0            0  \n",
              "4                   0            0            1               0            0  \n",
              "...               ...          ...          ...             ...          ...  \n",
              "49995               0            1            0               0            0  \n",
              "49996               0            0            0               0            0  \n",
              "49997               0            0            0               0            0  \n",
              "49998               0            1            0               0            0  \n",
              "49999               0            0            0               0            0  \n",
              "\n",
              "[49576 rows x 7 columns]"
            ],
            "text/html": [
              "\n",
              "  <div id=\"df-786a22be-9165-495e-babc-7d6d5e6647bb\">\n",
              "    <div class=\"colab-df-container\">\n",
              "      <div>\n",
              "<style scoped>\n",
              "    .dataframe tbody tr th:only-of-type {\n",
              "        vertical-align: middle;\n",
              "    }\n",
              "\n",
              "    .dataframe tbody tr th {\n",
              "        vertical-align: top;\n",
              "    }\n",
              "\n",
              "    .dataframe thead th {\n",
              "        text-align: right;\n",
              "    }\n",
              "</style>\n",
              "<table border=\"1\" class=\"dataframe\">\n",
              "  <thead>\n",
              "    <tr style=\"text-align: right;\">\n",
              "      <th></th>\n",
              "      <th>review</th>\n",
              "      <th>label_action</th>\n",
              "      <th>label_dramatic</th>\n",
              "      <th>label_funny</th>\n",
              "      <th>label_other</th>\n",
              "      <th>label_romantic</th>\n",
              "      <th>label_scary</th>\n",
              "    </tr>\n",
              "  </thead>\n",
              "  <tbody>\n",
              "    <tr>\n",
              "      <th>0</th>\n",
              "      <td>film brilliant casting location scenery story ...</td>\n",
              "      <td>0</td>\n",
              "      <td>0</td>\n",
              "      <td>1</td>\n",
              "      <td>0</td>\n",
              "      <td>0</td>\n",
              "      <td>0</td>\n",
              "    </tr>\n",
              "    <tr>\n",
              "      <th>1</th>\n",
              "      <td>big hair big boob bad music giant safety pin w...</td>\n",
              "      <td>0</td>\n",
              "      <td>0</td>\n",
              "      <td>0</td>\n",
              "      <td>0</td>\n",
              "      <td>0</td>\n",
              "      <td>1</td>\n",
              "    </tr>\n",
              "    <tr>\n",
              "      <th>2</th>\n",
              "      <td>one worst film friend watching film target aud...</td>\n",
              "      <td>0</td>\n",
              "      <td>1</td>\n",
              "      <td>0</td>\n",
              "      <td>0</td>\n",
              "      <td>0</td>\n",
              "      <td>0</td>\n",
              "    </tr>\n",
              "    <tr>\n",
              "      <th>3</th>\n",
              "      <td>scot excel storytelling traditional sort many ...</td>\n",
              "      <td>0</td>\n",
              "      <td>0</td>\n",
              "      <td>1</td>\n",
              "      <td>0</td>\n",
              "      <td>0</td>\n",
              "      <td>0</td>\n",
              "    </tr>\n",
              "    <tr>\n",
              "      <th>4</th>\n",
              "      <td>worst mistake life br br picked movie target f...</td>\n",
              "      <td>0</td>\n",
              "      <td>0</td>\n",
              "      <td>0</td>\n",
              "      <td>1</td>\n",
              "      <td>0</td>\n",
              "      <td>0</td>\n",
              "    </tr>\n",
              "    <tr>\n",
              "      <th>...</th>\n",
              "      <td>...</td>\n",
              "      <td>...</td>\n",
              "      <td>...</td>\n",
              "      <td>...</td>\n",
              "      <td>...</td>\n",
              "      <td>...</td>\n",
              "      <td>...</td>\n",
              "    </tr>\n",
              "    <tr>\n",
              "      <th>49995</th>\n",
              "      <td>book better film mostly writer prose saw film ...</td>\n",
              "      <td>0</td>\n",
              "      <td>0</td>\n",
              "      <td>1</td>\n",
              "      <td>0</td>\n",
              "      <td>0</td>\n",
              "      <td>0</td>\n",
              "    </tr>\n",
              "    <tr>\n",
              "      <th>49996</th>\n",
              "      <td>largest crowd ever see wrestling event u took ...</td>\n",
              "      <td>1</td>\n",
              "      <td>0</td>\n",
              "      <td>0</td>\n",
              "      <td>0</td>\n",
              "      <td>0</td>\n",
              "      <td>0</td>\n",
              "    </tr>\n",
              "    <tr>\n",
              "      <th>49997</th>\n",
              "      <td>suppose say terrible movie would unfair pretty...</td>\n",
              "      <td>1</td>\n",
              "      <td>0</td>\n",
              "      <td>0</td>\n",
              "      <td>0</td>\n",
              "      <td>0</td>\n",
              "      <td>0</td>\n",
              "    </tr>\n",
              "    <tr>\n",
              "      <th>49998</th>\n",
              "      <td>love third movie seemed creator took element f...</td>\n",
              "      <td>0</td>\n",
              "      <td>0</td>\n",
              "      <td>1</td>\n",
              "      <td>0</td>\n",
              "      <td>0</td>\n",
              "      <td>0</td>\n",
              "    </tr>\n",
              "    <tr>\n",
              "      <th>49999</th>\n",
              "      <td>good ol boy film almost required moonshine car...</td>\n",
              "      <td>1</td>\n",
              "      <td>0</td>\n",
              "      <td>0</td>\n",
              "      <td>0</td>\n",
              "      <td>0</td>\n",
              "      <td>0</td>\n",
              "    </tr>\n",
              "  </tbody>\n",
              "</table>\n",
              "<p>49576 rows × 7 columns</p>\n",
              "</div>\n",
              "      <button class=\"colab-df-convert\" onclick=\"convertToInteractive('df-786a22be-9165-495e-babc-7d6d5e6647bb')\"\n",
              "              title=\"Convert this dataframe to an interactive table.\"\n",
              "              style=\"display:none;\">\n",
              "        \n",
              "  <svg xmlns=\"http://www.w3.org/2000/svg\" height=\"24px\"viewBox=\"0 0 24 24\"\n",
              "       width=\"24px\">\n",
              "    <path d=\"M0 0h24v24H0V0z\" fill=\"none\"/>\n",
              "    <path d=\"M18.56 5.44l.94 2.06.94-2.06 2.06-.94-2.06-.94-.94-2.06-.94 2.06-2.06.94zm-11 1L8.5 8.5l.94-2.06 2.06-.94-2.06-.94L8.5 2.5l-.94 2.06-2.06.94zm10 10l.94 2.06.94-2.06 2.06-.94-2.06-.94-.94-2.06-.94 2.06-2.06.94z\"/><path d=\"M17.41 7.96l-1.37-1.37c-.4-.4-.92-.59-1.43-.59-.52 0-1.04.2-1.43.59L10.3 9.45l-7.72 7.72c-.78.78-.78 2.05 0 2.83L4 21.41c.39.39.9.59 1.41.59.51 0 1.02-.2 1.41-.59l7.78-7.78 2.81-2.81c.8-.78.8-2.07 0-2.86zM5.41 20L4 18.59l7.72-7.72 1.47 1.35L5.41 20z\"/>\n",
              "  </svg>\n",
              "      </button>\n",
              "      \n",
              "  <style>\n",
              "    .colab-df-container {\n",
              "      display:flex;\n",
              "      flex-wrap:wrap;\n",
              "      gap: 12px;\n",
              "    }\n",
              "\n",
              "    .colab-df-convert {\n",
              "      background-color: #E8F0FE;\n",
              "      border: none;\n",
              "      border-radius: 50%;\n",
              "      cursor: pointer;\n",
              "      display: none;\n",
              "      fill: #1967D2;\n",
              "      height: 32px;\n",
              "      padding: 0 0 0 0;\n",
              "      width: 32px;\n",
              "    }\n",
              "\n",
              "    .colab-df-convert:hover {\n",
              "      background-color: #E2EBFA;\n",
              "      box-shadow: 0px 1px 2px rgba(60, 64, 67, 0.3), 0px 1px 3px 1px rgba(60, 64, 67, 0.15);\n",
              "      fill: #174EA6;\n",
              "    }\n",
              "\n",
              "    [theme=dark] .colab-df-convert {\n",
              "      background-color: #3B4455;\n",
              "      fill: #D2E3FC;\n",
              "    }\n",
              "\n",
              "    [theme=dark] .colab-df-convert:hover {\n",
              "      background-color: #434B5C;\n",
              "      box-shadow: 0px 1px 3px 1px rgba(0, 0, 0, 0.15);\n",
              "      filter: drop-shadow(0px 1px 2px rgba(0, 0, 0, 0.3));\n",
              "      fill: #FFFFFF;\n",
              "    }\n",
              "  </style>\n",
              "\n",
              "      <script>\n",
              "        const buttonEl =\n",
              "          document.querySelector('#df-786a22be-9165-495e-babc-7d6d5e6647bb button.colab-df-convert');\n",
              "        buttonEl.style.display =\n",
              "          google.colab.kernel.accessAllowed ? 'block' : 'none';\n",
              "\n",
              "        async function convertToInteractive(key) {\n",
              "          const element = document.querySelector('#df-786a22be-9165-495e-babc-7d6d5e6647bb');\n",
              "          const dataTable =\n",
              "            await google.colab.kernel.invokeFunction('convertToInteractive',\n",
              "                                                     [key], {});\n",
              "          if (!dataTable) return;\n",
              "\n",
              "          const docLinkHtml = 'Like what you see? Visit the ' +\n",
              "            '<a target=\"_blank\" href=https://colab.research.google.com/notebooks/data_table.ipynb>data table notebook</a>'\n",
              "            + ' to learn more about interactive tables.';\n",
              "          element.innerHTML = '';\n",
              "          dataTable['output_type'] = 'display_data';\n",
              "          await google.colab.output.renderOutput(dataTable, element);\n",
              "          const docLink = document.createElement('div');\n",
              "          docLink.innerHTML = docLinkHtml;\n",
              "          element.appendChild(docLink);\n",
              "        }\n",
              "      </script>\n",
              "    </div>\n",
              "  </div>\n",
              "  "
            ]
          },
          "metadata": {},
          "execution_count": 14
        }
      ]
    },
    {
      "cell_type": "code",
      "source": [
        "num_classes = 6\n",
        "\n",
        "tokenizer = Tokenizer(num_words=10000)\n",
        "tokenizer.fit_on_texts(train_df['review'])\n",
        "sequences = tokenizer.texts_to_sequences(train_df['review'])\n",
        "\n",
        "max_length = max([len(seq) for seq in sequences])\n",
        "padded_sequences = pad_sequences(sequences, maxlen=max_length)\n",
        "\n",
        "labels = pd.get_dummies(train_df[['label_action', 'label_dramatic', 'label_funny', 'label_other', 'label_romantic','label_scary']])\n",
        "\n",
        "train_size = int(0.8 * len(train_df))\n",
        "train_data = padded_sequences[:train_size]\n",
        "train_labels = labels[:train_size].values\n",
        "test_data = padded_sequences[train_size:]\n",
        "test_labels = labels[train_size:].values\n",
        "\n",
        "# Train KNN classifier for genre classification\n",
        "knn = KNeighborsClassifier(n_neighbors=5)\n",
        "knn.fit(train_data, train_labels)"
      ],
      "metadata": {
        "colab": {
          "base_uri": "https://localhost:8080/",
          "height": 75
        },
        "id": "Iy0ebR8jcz1T",
        "outputId": "71e2683e-696d-4e80-9a5b-e289318cdb43"
      },
      "execution_count": 21,
      "outputs": [
        {
          "output_type": "execute_result",
          "data": {
            "text/plain": [
              "KNeighborsClassifier()"
            ],
            "text/html": [
              "<style>#sk-container-id-2 {color: black;background-color: white;}#sk-container-id-2 pre{padding: 0;}#sk-container-id-2 div.sk-toggleable {background-color: white;}#sk-container-id-2 label.sk-toggleable__label {cursor: pointer;display: block;width: 100%;margin-bottom: 0;padding: 0.3em;box-sizing: border-box;text-align: center;}#sk-container-id-2 label.sk-toggleable__label-arrow:before {content: \"▸\";float: left;margin-right: 0.25em;color: #696969;}#sk-container-id-2 label.sk-toggleable__label-arrow:hover:before {color: black;}#sk-container-id-2 div.sk-estimator:hover label.sk-toggleable__label-arrow:before {color: black;}#sk-container-id-2 div.sk-toggleable__content {max-height: 0;max-width: 0;overflow: hidden;text-align: left;background-color: #f0f8ff;}#sk-container-id-2 div.sk-toggleable__content pre {margin: 0.2em;color: black;border-radius: 0.25em;background-color: #f0f8ff;}#sk-container-id-2 input.sk-toggleable__control:checked~div.sk-toggleable__content {max-height: 200px;max-width: 100%;overflow: auto;}#sk-container-id-2 input.sk-toggleable__control:checked~label.sk-toggleable__label-arrow:before {content: \"▾\";}#sk-container-id-2 div.sk-estimator input.sk-toggleable__control:checked~label.sk-toggleable__label {background-color: #d4ebff;}#sk-container-id-2 div.sk-label input.sk-toggleable__control:checked~label.sk-toggleable__label {background-color: #d4ebff;}#sk-container-id-2 input.sk-hidden--visually {border: 0;clip: rect(1px 1px 1px 1px);clip: rect(1px, 1px, 1px, 1px);height: 1px;margin: -1px;overflow: hidden;padding: 0;position: absolute;width: 1px;}#sk-container-id-2 div.sk-estimator {font-family: monospace;background-color: #f0f8ff;border: 1px dotted black;border-radius: 0.25em;box-sizing: border-box;margin-bottom: 0.5em;}#sk-container-id-2 div.sk-estimator:hover {background-color: #d4ebff;}#sk-container-id-2 div.sk-parallel-item::after {content: \"\";width: 100%;border-bottom: 1px solid gray;flex-grow: 1;}#sk-container-id-2 div.sk-label:hover label.sk-toggleable__label {background-color: #d4ebff;}#sk-container-id-2 div.sk-serial::before {content: \"\";position: absolute;border-left: 1px solid gray;box-sizing: border-box;top: 0;bottom: 0;left: 50%;z-index: 0;}#sk-container-id-2 div.sk-serial {display: flex;flex-direction: column;align-items: center;background-color: white;padding-right: 0.2em;padding-left: 0.2em;position: relative;}#sk-container-id-2 div.sk-item {position: relative;z-index: 1;}#sk-container-id-2 div.sk-parallel {display: flex;align-items: stretch;justify-content: center;background-color: white;position: relative;}#sk-container-id-2 div.sk-item::before, #sk-container-id-2 div.sk-parallel-item::before {content: \"\";position: absolute;border-left: 1px solid gray;box-sizing: border-box;top: 0;bottom: 0;left: 50%;z-index: -1;}#sk-container-id-2 div.sk-parallel-item {display: flex;flex-direction: column;z-index: 1;position: relative;background-color: white;}#sk-container-id-2 div.sk-parallel-item:first-child::after {align-self: flex-end;width: 50%;}#sk-container-id-2 div.sk-parallel-item:last-child::after {align-self: flex-start;width: 50%;}#sk-container-id-2 div.sk-parallel-item:only-child::after {width: 0;}#sk-container-id-2 div.sk-dashed-wrapped {border: 1px dashed gray;margin: 0 0.4em 0.5em 0.4em;box-sizing: border-box;padding-bottom: 0.4em;background-color: white;}#sk-container-id-2 div.sk-label label {font-family: monospace;font-weight: bold;display: inline-block;line-height: 1.2em;}#sk-container-id-2 div.sk-label-container {text-align: center;}#sk-container-id-2 div.sk-container {/* jupyter's `normalize.less` sets `[hidden] { display: none; }` but bootstrap.min.css set `[hidden] { display: none !important; }` so we also need the `!important` here to be able to override the default hidden behavior on the sphinx rendered scikit-learn.org. See: https://github.com/scikit-learn/scikit-learn/issues/21755 */display: inline-block !important;position: relative;}#sk-container-id-2 div.sk-text-repr-fallback {display: none;}</style><div id=\"sk-container-id-2\" class=\"sk-top-container\"><div class=\"sk-text-repr-fallback\"><pre>KNeighborsClassifier()</pre><b>In a Jupyter environment, please rerun this cell to show the HTML representation or trust the notebook. <br />On GitHub, the HTML representation is unable to render, please try loading this page with nbviewer.org.</b></div><div class=\"sk-container\" hidden><div class=\"sk-item\"><div class=\"sk-estimator sk-toggleable\"><input class=\"sk-toggleable__control sk-hidden--visually\" id=\"sk-estimator-id-2\" type=\"checkbox\" checked><label for=\"sk-estimator-id-2\" class=\"sk-toggleable__label sk-toggleable__label-arrow\">KNeighborsClassifier</label><div class=\"sk-toggleable__content\"><pre>KNeighborsClassifier()</pre></div></div></div></div></div>"
            ]
          },
          "metadata": {},
          "execution_count": 21
        }
      ]
    },
    {
      "cell_type": "code",
      "execution_count": 24,
      "metadata": {
        "id": "LAQDKRUCrgdJ"
      },
      "outputs": [],
      "source": [
        "# Predict genres for testing data\n",
        "y_pred = knn.predict(test_data)"
      ]
    },
    {
      "cell_type": "code",
      "source": [
        "# Calculate accuracy\n",
        "accuracy = accuracy_score(test_labels, y_pred)\n",
        "print(f\"Accuracy: {accuracy:.4f}\")"
      ],
      "metadata": {
        "colab": {
          "base_uri": "https://localhost:8080/"
        },
        "id": "lp2TA0_XdzjR",
        "outputId": "63e8d4bc-9caf-4dcc-b62a-6ea1e8fc52f1"
      },
      "execution_count": 35,
      "outputs": [
        {
          "output_type": "stream",
          "name": "stdout",
          "text": [
            "Accuracy: 0.1061\n"
          ]
        }
      ]
    },
    {
      "cell_type": "code",
      "source": [],
      "metadata": {
        "id": "d2pyKUr4euRQ"
      },
      "execution_count": null,
      "outputs": []
    }
  ],
  "metadata": {
    "colab": {
      "provenance": []
    },
    "kernelspec": {
      "display_name": "Python 3",
      "name": "python3"
    },
    "language_info": {
      "name": "python"
    }
  },
  "nbformat": 4,
  "nbformat_minor": 0
}